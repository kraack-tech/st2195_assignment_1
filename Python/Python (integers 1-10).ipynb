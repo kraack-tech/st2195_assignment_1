{
 "cells": [
  {
   "cell_type": "markdown",
   "id": "1e6a87b7",
   "metadata": {},
   "source": [
    "<img src=\"https://user-images.githubusercontent.com/7065401/55025843-7d99a280-4fe0-11e9-938a-4879d95c4130.png\"\n",
    "    style=\"width:40px; float: left; margin: 0 20px 20px 20px;\"></img>\n",
    "    \n",
    "# Jupyter notebook\n",
    "\n",
    "    \n",
    "![green-divider](https://user-images.githubusercontent.com/7065401/52071924-c003ad80-2562-11e9-8297-1c6595f8a7ff.png)\n",
    "\n",
    "\n",
    "\n",
    "\n",
    "## Containing a Python script that prints all integers between 1 and 10 (including 1 and 10) to screen\n",
    "\n",
    "\n",
    "\n",
    "> First assignment uploaded to GitHub\n"
   ]
  },
  {
   "cell_type": "code",
   "execution_count": 4,
   "id": "a249493b",
   "metadata": {},
   "outputs": [
    {
     "name": "stdout",
     "output_type": "stream",
     "text": [
      "1\n",
      "2\n",
      "3\n",
      "4\n",
      "5\n",
      "6\n",
      "7\n",
      "8\n",
      "9\n",
      "10\n"
     ]
    }
   ],
   "source": [
    "for a in range(1, 11):\n",
    "    print(a)"
   ]
  }
 ],
 "metadata": {
  "kernelspec": {
   "display_name": "Python 3",
   "language": "python",
   "name": "python3"
  },
  "language_info": {
   "codemirror_mode": {
    "name": "ipython",
    "version": 3
   },
   "file_extension": ".py",
   "mimetype": "text/x-python",
   "name": "python",
   "nbconvert_exporter": "python",
   "pygments_lexer": "ipython3",
   "version": "3.8.8"
  }
 },
 "nbformat": 4,
 "nbformat_minor": 5
}
